{
 "nbformat": 4,
 "nbformat_minor": 0,
 "metadata": {
  "colab": {
   "provenance": []
  },
  "kernelspec": {
   "name": "python3",
   "display_name": "Python 3 (ipykernel)",
   "language": "python"
  },
  "language_info": {
   "name": "python"
  }
 },
 "cells": [
  {
   "cell_type": "markdown",
   "source": [
    "# NYC Yellow Taxi"
   ],
   "metadata": {
    "id": "1FLhrEzpPM8h"
   }
  },
  {
   "cell_type": "markdown",
   "source": [
    "## Paso 0: Problema de negocio"
   ],
   "metadata": {
    "id": "dUQBQC6_RRZB"
   }
  },
  {
   "cell_type": "markdown",
   "source": [
    "### Paso 0.1 Contexto"
   ],
   "metadata": {
    "id": "Wjpb0V_yRCDO"
   }
  },
  {
   "cell_type": "code",
   "source": [],
   "metadata": {
    "id": "QUW-JhWoRHLP"
   },
   "outputs": [],
   "execution_count": null
  },
  {
   "cell_type": "markdown",
   "source": [
    "### Paso 0.2: Problema"
   ],
   "metadata": {
    "id": "yvrQd4qHRF-1"
   }
  },
  {
   "cell_type": "code",
   "metadata": {
    "id": "SQk0pRqqPH_Z"
   },
   "source": [],
   "outputs": [],
   "execution_count": null
  },
  {
   "cell_type": "markdown",
   "source": [
    "### Paso 0.3: Objetivos"
   ],
   "metadata": {
    "id": "123Cqb_TSRj2"
   }
  },
  {
   "cell_type": "markdown",
   "source": [],
   "metadata": {
    "id": "IXesPl8NScVP"
   }
  },
  {
   "cell_type": "markdown",
   "source": [
    "## Paso 1: Importar Liberias"
   ],
   "metadata": {
    "id": "XJcYYikdRcev"
   }
  },
  {
   "cell_type": "code",
   "source": [
    "import pandas as pd\n",
    "import numpy as np\n",
    "import seaborn as sns\n",
    "import matplotlib.pyplot as plt\n",
    "import kagglehub\n",
    "import shutil\n",
    "import os\n"
   ],
   "metadata": {
    "id": "I32EGAirRj8n",
    "ExecuteTime": {
     "end_time": "2025-05-04T19:20:20.939670Z",
     "start_time": "2025-05-04T19:20:20.935339Z"
    }
   },
   "outputs": [],
   "execution_count": 2
  },
  {
   "cell_type": "markdown",
   "source": [
    "## Paso 2: Cargar los datos"
   ],
   "metadata": {
    "id": "_K4tBSndSJz3"
   }
  },
  {
   "metadata": {
    "ExecuteTime": {
     "end_time": "2025-05-04T19:30:33.040383Z",
     "start_time": "2025-05-04T19:20:35.988086Z"
    }
   },
   "cell_type": "code",
   "source": [
    "# Download the dataset\n",
    "path = kagglehub.dataset_download(\"elemento/nyc-yellow-taxi-trip-data\")\n",
    "print(\"Path to dataset files:\", path)\n",
    "\n",
    "# Define target directory: one folder above current working directory, in 'data'\n",
    "target_dir = os.path.abspath(os.path.join(os.getcwd(), \"../data\"))\n",
    "\n",
    "# Create the 'data' folder if it doesn't exist\n",
    "os.makedirs(target_dir, exist_ok=True)\n",
    "\n",
    "# Move all files from download path to target_dir\n",
    "for file_name in os.listdir(path):\n",
    "    src = os.path.join(path, file_name)\n",
    "    dst = os.path.join(target_dir, file_name)\n",
    "    shutil.move(src, dst)\n",
    "\n",
    "print(\"Files moved to:\", target_dir)"
   ],
   "outputs": [
    {
     "name": "stdout",
     "output_type": "stream",
     "text": [
      "Downloading from https://www.kaggle.com/api/v1/datasets/download/elemento/nyc-yellow-taxi-trip-data?dataset_version_number=2...\n"
     ]
    },
    {
     "name": "stderr",
     "output_type": "stream",
     "text": [
      "100%|██████████| 1.78G/1.78G [09:28<00:00, 3.37MB/s]"
     ]
    },
    {
     "name": "stdout",
     "output_type": "stream",
     "text": [
      "Extracting files...\n"
     ]
    },
    {
     "name": "stderr",
     "output_type": "stream",
     "text": [
      "\n"
     ]
    },
    {
     "name": "stdout",
     "output_type": "stream",
     "text": [
      "Path to dataset files: C:\\Users\\guill\\.cache\\kagglehub\\datasets\\elemento\\nyc-yellow-taxi-trip-data\\versions\\2\n",
      "Files moved to: C:\\Users\\guill\\Documents\\GitHub\\nyc-yellow-taxi\\data\n"
     ]
    }
   ],
   "execution_count": 3
  },
  {
   "cell_type": "code",
   "source": [
    "df = pd.read_csv(f\"/content/drive/MyDrive/Predictive_Statistical_Models/yellow_tripdata_2016-03.csv\")"
   ],
   "metadata": {
    "id": "837LCFVjRqI5"
   },
   "outputs": [],
   "execution_count": null
  },
  {
   "cell_type": "code",
   "source": [
    "df.shape"
   ],
   "metadata": {
    "colab": {
     "base_uri": "https://localhost:8080/"
    },
    "id": "OEieYJ5jUEzg",
    "outputId": "0adea59e-71ec-4c32-9d0e-95f83df4d84b"
   },
   "outputs": [],
   "execution_count": null
  },
  {
   "cell_type": "code",
   "source": [
    "df.head()"
   ],
   "metadata": {
    "colab": {
     "base_uri": "https://localhost:8080/",
     "height": 226
    },
    "id": "BTA6z_wWUHJ_",
    "outputId": "f0a407b0-42ea-4b2d-cfad-9443deffebc3"
   },
   "outputs": [],
   "execution_count": null
  },
  {
   "cell_type": "code",
   "source": [
    "df.tail()"
   ],
   "metadata": {
    "colab": {
     "base_uri": "https://localhost:8080/",
     "height": 226
    },
    "id": "M-QXiGmaUJ4m",
    "outputId": "460605ff-cac9-472f-8ac1-38c1c2bf30c4"
   },
   "outputs": [],
   "execution_count": null
  },
  {
   "cell_type": "markdown",
   "source": [
    "## Paso 3: Análisis de datos"
   ],
   "metadata": {
    "id": "sefRdpHvUOau"
   }
  },
  {
   "cell_type": "code",
   "source": [
    "df.info()"
   ],
   "metadata": {
    "colab": {
     "base_uri": "https://localhost:8080/"
    },
    "id": "pn2fI-bJUP6B",
    "outputId": "90bfb192-232e-4a83-8c4e-b9f331535587"
   },
   "outputs": [],
   "execution_count": null
  },
  {
   "cell_type": "code",
   "source": [
    "df.dtypes"
   ],
   "metadata": {
    "colab": {
     "base_uri": "https://localhost:8080/",
     "height": 680
    },
    "id": "aANz1AY0USoW",
    "outputId": "d517c39b-4f31-4dab-f50a-f1ebc7fab501"
   },
   "outputs": [],
   "execution_count": null
  },
  {
   "cell_type": "code",
   "source": [
    "# Select specific numerical columns\n",
    "selected_columns = ['passenger_count', 'trip_distance', 'fare_amount', 'extra', 'mta_tax', 'tip_amount', 'tip_amount', 'total_amount']\n",
    "numerical_columns = [col for col in selected_columns if col in df.columns]\n",
    "\n",
    "# Compute summary statistics\n",
    "statistics = df[numerical_columns].agg(\n",
    "    ['mean', 'median', 'std', 'var', 'min', 'max', 'skew', 'kurt']\n",
    ").T.rename(columns={\n",
    "    \"mean\": \"Mean\",\n",
    "    \"median\": \"Median\",\n",
    "    \"std\": \"Standard Deviation\",\n",
    "    \"var\": \"Variance\",\n",
    "    \"min\": \"Minimum\",\n",
    "    \"max\": \"Maximum\",\n",
    "    \"skew\": \"Skewness\",\n",
    "    \"kurt\": \"Kurtosis\"\n",
    "})\n",
    "\n",
    "# Display results\n",
    "print(\"\\nMedidas de tendencia central y dispersión:\\n\")\n",
    "statistics"
   ],
   "metadata": {
    "colab": {
     "base_uri": "https://localhost:8080/",
     "height": 390
    },
    "id": "NBxpbM9pUy-G",
    "outputId": "3a9af9db-4315-419e-bde5-7e04f804a8ec"
   },
   "outputs": [],
   "execution_count": null
  },
  {
   "cell_type": "markdown",
   "source": [
    "## Paso 4: Gestión de duplicaciones y valores faltantes"
   ],
   "metadata": {
    "id": "32Qil71WXBRf"
   }
  },
  {
   "cell_type": "markdown",
   "source": [
    "### 4.1 Manejo de duplicaciones"
   ],
   "metadata": {
    "id": "f8C8mlKIXPbu"
   }
  },
  {
   "cell_type": "code",
   "source": [
    "duplicates = df.duplicated().sum()"
   ],
   "metadata": {
    "id": "Jhzhr9s6XNJe"
   },
   "outputs": [],
   "execution_count": null
  },
  {
   "cell_type": "code",
   "source": [
    "print(f\"Número de registros duplicados: {duplicates}\")"
   ],
   "metadata": {
    "colab": {
     "base_uri": "https://localhost:8080/"
    },
    "id": "G-8ymR-fXRF-",
    "outputId": "5df8b5da-c0e2-4e37-ba65-efd20f75b17d"
   },
   "outputs": [],
   "execution_count": null
  },
  {
   "cell_type": "code",
   "source": [
    "df = df.drop_duplicates()"
   ],
   "metadata": {
    "id": "pb9KrctHYGM-"
   },
   "outputs": [],
   "execution_count": null
  },
  {
   "cell_type": "markdown",
   "source": [
    "### 4.2 Manejo de valores faltantes"
   ],
   "metadata": {
    "id": "YhSo8eLmXTja"
   }
  },
  {
   "cell_type": "code",
   "source": [
    "len(df)"
   ],
   "metadata": {
    "colab": {
     "base_uri": "https://localhost:8080/"
    },
    "id": "0LHzluogXUxO",
    "outputId": "47709a79-cf7a-4601-f5e0-4d26e74c38c2"
   },
   "outputs": [],
   "execution_count": null
  },
  {
   "cell_type": "code",
   "source": [
    "missing_data = df.isnull().sum()[df.isnull().sum() > 0]"
   ],
   "metadata": {
    "id": "StE19DOZY6DP"
   },
   "outputs": [],
   "execution_count": null
  },
  {
   "cell_type": "code",
   "source": [
    "missing_data"
   ],
   "metadata": {
    "colab": {
     "base_uri": "https://localhost:8080/",
     "height": 84
    },
    "id": "l84NQyaLY9DW",
    "outputId": "b61954bc-6686-4c77-a24e-c04c62b3310c"
   },
   "outputs": [],
   "execution_count": null
  },
  {
   "cell_type": "markdown",
   "source": [
    "## Paso 5:  Reducción de Datos"
   ],
   "metadata": {
    "id": "OP5e0Dz3ZFtH"
   }
  },
  {
   "cell_type": "code",
   "source": [
    "data = df.drop(columns=[\"VendorID\", \"RatecodeID\", \"store_and_fwd_flag\", \"pickup_longitude\", \"pickup_latitude\", \"dropoff_longitude\", \"dropoff_latitude\"])"
   ],
   "metadata": {
    "id": "4iNwskceaCkn"
   },
   "outputs": [],
   "execution_count": null
  },
  {
   "cell_type": "markdown",
   "source": [
    "## Paso 6: Ingeniería de Características (Feature Engineering)"
   ],
   "metadata": {
    "id": "Ar4_Ryw0bsxN"
   }
  },
  {
   "cell_type": "markdown",
   "source": [
    "### Paso 6.1: Crear Caracteristicas"
   ],
   "metadata": {
    "id": "99fasq-jb7hW"
   }
  },
  {
   "cell_type": "code",
   "source": [
    "data.head()"
   ],
   "metadata": {
    "colab": {
     "base_uri": "https://localhost:8080/",
     "height": 226
    },
    "id": "O87vNIDobtZG",
    "outputId": "4b7cb15d-5f0b-4dfb-fb38-7f89ee88a403"
   },
   "outputs": [],
   "execution_count": null
  },
  {
   "cell_type": "code",
   "source": [
    "# Ensure the columns are in datetime format\n",
    "data['tpep_pickup_datetime'] = pd.to_datetime(data['tpep_pickup_datetime'])\n",
    "data['tpep_dropoff_datetime'] = pd.to_datetime(data['tpep_dropoff_datetime'])\n",
    "\n",
    "# Calculate trip duration\n",
    "data['trip_duration'] = data['tpep_dropoff_datetime'] - data['tpep_pickup_datetime']\n",
    "\n",
    "# Optional: Get duration in minutes (or seconds, etc.)\n",
    "data['trip_duration_minutes'] = data['trip_duration'].dt.total_seconds() / 60"
   ],
   "metadata": {
    "id": "Ub7kHYYtikQe"
   },
   "outputs": [],
   "execution_count": null
  },
  {
   "cell_type": "code",
   "source": [
    "data.head()"
   ],
   "metadata": {
    "colab": {
     "base_uri": "https://localhost:8080/",
     "height": 226
    },
    "id": "6nDZuTT0jx5u",
    "outputId": "e1c79a3e-c425-47a6-88c2-0848abaaae77"
   },
   "outputs": [],
   "execution_count": null
  },
  {
   "cell_type": "markdown",
   "source": [
    "## Paso 7: Limpieza y Manipulación de Datos"
   ],
   "metadata": {
    "id": "sbZcxZ-RcMeV"
   }
  },
  {
   "cell_type": "code",
   "source": [
    "data = data.drop(\"tpep_pickup_datetime\", axis=1)"
   ],
   "metadata": {
    "id": "AvkRriu_o5cE"
   },
   "outputs": [],
   "execution_count": null
  },
  {
   "cell_type": "code",
   "source": [
    "data = data.drop(\"tpep_dropoff_datetime\", axis=1)"
   ],
   "metadata": {
    "id": "5u87VC1-pSak"
   },
   "outputs": [],
   "execution_count": null
  },
  {
   "cell_type": "code",
   "source": [
    "data = data[data['total_amount'] >= 0]"
   ],
   "metadata": {
    "id": "_TlrF6qIsU3s"
   },
   "outputs": [],
   "execution_count": null
  },
  {
   "cell_type": "code",
   "source": [
    "data_cleaned = data.copy()"
   ],
   "metadata": {
    "id": "Y1xljUOocOL2"
   },
   "outputs": [],
   "execution_count": null
  },
  {
   "cell_type": "markdown",
   "source": [
    "## Paso 8: Agrupar las variables según el tipo"
   ],
   "metadata": {
    "id": "aOqTyrLEcRUd"
   }
  },
  {
   "cell_type": "markdown",
   "source": [
    "### Paso 8.1: Guardar la variable objetivo"
   ],
   "metadata": {
    "id": "cA_kHSkTcs6C"
   }
  },
  {
   "cell_type": "code",
   "source": [
    "target_var_num = \"total_amount\""
   ],
   "metadata": {
    "id": "YOKKV0XNcr6O"
   },
   "outputs": [],
   "execution_count": null
  },
  {
   "cell_type": "code",
   "source": [
    "target_var_cat = \"\""
   ],
   "metadata": {
    "id": "bhas6Nluc20X"
   },
   "outputs": [],
   "execution_count": null
  },
  {
   "cell_type": "markdown",
   "source": [
    "### Paso 8.2: Guardar las variables categorias"
   ],
   "metadata": {
    "id": "u8-cdVz_dSzV"
   }
  },
  {
   "cell_type": "code",
   "source": [
    "data.head()"
   ],
   "metadata": {
    "colab": {
     "base_uri": "https://localhost:8080/",
     "height": 226
    },
    "id": "eSWjyGHadZcf",
    "outputId": "b05cc1bc-fd36-4b31-f4d0-7e6dd79241f6"
   },
   "outputs": [],
   "execution_count": null
  },
  {
   "cell_type": "code",
   "source": [
    "vars_cat = [var for var in data.columns if (data[var].dtype == \"O\"\n",
    "            or var == \"payment_type\")\n",
    "            and var != target_var_cat]"
   ],
   "metadata": {
    "id": "Rb7ZjfNBdTaO"
   },
   "outputs": [],
   "execution_count": null
  },
  {
   "cell_type": "code",
   "source": [
    "vars_cat"
   ],
   "metadata": {
    "colab": {
     "base_uri": "https://localhost:8080/"
    },
    "id": "E96IlDVEdem1",
    "outputId": "3462815d-d30c-41a5-bf06-cd22aac74da2"
   },
   "outputs": [],
   "execution_count": null
  },
  {
   "cell_type": "markdown",
   "source": [
    "### Paso 8.3 Guardar las variables númericas"
   ],
   "metadata": {
    "id": "raFqyo4BeDKV"
   }
  },
  {
   "cell_type": "code",
   "source": [
    "vars_nums = [var for var in data.columns if data[var].dtype != \"O\" and var != target_var_num and var not in vars_cat]"
   ],
   "metadata": {
    "id": "gcxy7jfLeDyG"
   },
   "outputs": [],
   "execution_count": null
  },
  {
   "cell_type": "code",
   "source": [
    "vars_nums"
   ],
   "metadata": {
    "colab": {
     "base_uri": "https://localhost:8080/"
    },
    "id": "HdO5dvpreMdY",
    "outputId": "07f7e096-1ad3-4c32-ba69-3b8c616b938c"
   },
   "outputs": [],
   "execution_count": null
  },
  {
   "cell_type": "markdown",
   "source": [
    "### Paso 8.4 Variables discretas"
   ],
   "metadata": {
    "id": "cRyCCcpBeRVc"
   }
  },
  {
   "cell_type": "code",
   "source": [
    "# Initialize lists\n",
    "vars_disc = []\n",
    "vars_con = []\n",
    "\n",
    "# Loop through each numeric variable\n",
    "for col in vars_nums:\n",
    "    if pd.api.types.is_integer_dtype(data[col]):\n",
    "        vars_disc.append(col)\n",
    "    else:\n",
    "        vars_con.append(col)"
   ],
   "metadata": {
    "id": "UMeatgrTemQG"
   },
   "outputs": [],
   "execution_count": null
  },
  {
   "cell_type": "code",
   "source": [
    "vars_disc"
   ],
   "metadata": {
    "colab": {
     "base_uri": "https://localhost:8080/"
    },
    "id": "facFT01zfz8E",
    "outputId": "b796ba33-77f0-4aa4-d0b3-59f762908e50"
   },
   "outputs": [],
   "execution_count": null
  },
  {
   "cell_type": "code",
   "source": [
    "vars_con"
   ],
   "metadata": {
    "colab": {
     "base_uri": "https://localhost:8080/"
    },
    "id": "HT4tudHRf1Ql",
    "outputId": "d0e42982-a471-49b3-9f9a-6565629653f0"
   },
   "outputs": [],
   "execution_count": null
  },
  {
   "cell_type": "markdown",
   "source": [
    "## Paso 9: Análisis Univariado"
   ],
   "metadata": {
    "id": "2SIZe8tbmazu"
   }
  },
  {
   "cell_type": "markdown",
   "source": [
    "### Paso 9.1: Análisis Univeriado de Variables Categorías"
   ],
   "metadata": {
    "id": "DY2vRn4Mmff9"
   }
  },
  {
   "cell_type": "code",
   "source": [
    "for var in vars_cat:\n",
    "    order = data[var].value_counts().index\n",
    "    plt.figure(figsize=(12, 6))\n",
    "    sns.countplot(data=data, x=var, order=order)\n",
    "    plt.title(f'Distribución de {var}', fontsize=14)\n",
    "    plt.xlabel(var)\n",
    "    plt.ylabel('Frecuencia')\n",
    "    plt.show()"
   ],
   "metadata": {
    "colab": {
     "base_uri": "https://localhost:8080/",
     "height": 480
    },
    "id": "DyxuDVm9mkPk",
    "outputId": "7b106857-6a45-433d-ab4c-1c5a3e4dcb3c"
   },
   "outputs": [],
   "execution_count": null
  },
  {
   "cell_type": "markdown",
   "source": [
    "### Paso 9.2: Análisis Univeriado de Variables Númericas"
   ],
   "metadata": {
    "id": "ZBT2cQ-um5ks"
   }
  },
  {
   "cell_type": "markdown",
   "source": [
    "#### Paso 9.2.1: Análisis Univeriado de Variables Discretas"
   ],
   "metadata": {
    "id": "KpgyDFQ-nB-1"
   }
  },
  {
   "cell_type": "code",
   "source": [
    "for var in vars_disc:\n",
    "    plt.figure(figsize=(10, 6))\n",
    "    sns.countplot(data=data, x=var)\n",
    "    plt.title(f'Distribución de {var}', fontsize=14)\n",
    "    plt.xlabel(var)\n",
    "    plt.ylabel('Frecuencia')\n",
    "    plt.show()"
   ],
   "metadata": {
    "id": "W5eJia-rnGEH"
   },
   "outputs": [],
   "execution_count": null
  },
  {
   "cell_type": "markdown",
   "source": [
    "#### Paso 9.2.2: Análisis Univeriado de Variables Continuas"
   ],
   "metadata": {
    "id": "jX1Olvc2nX3M"
   }
  },
  {
   "cell_type": "code",
   "source": [
    "for var in vars_con:\n",
    "    plt.figure(figsize=(16, 6))\n",
    "    plt.subplot(1, 2, 1)\n",
    "    sns.histplot(data[var], kde=True, bins=30)\n",
    "    plt.title(f'Distribución de {var} (Antes de remover atípicos)', fontsize=14)\n",
    "    plt.xlabel(var)\n",
    "    plt.ylabel('Frecuencia')\n",
    "\n",
    "    plt.subplot(1, 2, 2)\n",
    "    sns.histplot(data_cleaned[var], kde=True, bins=30)\n",
    "    plt.title(f'Distribución de {var} (Después de remover atípicos)', fontsize=14)\n",
    "    plt.xlabel(var)\n",
    "    plt.ylabel('Frecuencia')\n",
    "    plt.show()"
   ],
   "metadata": {
    "id": "SnBlGMX5nYaE"
   },
   "outputs": [],
   "execution_count": null
  },
  {
   "cell_type": "markdown",
   "source": [
    "### Paso 9.3: Análisis Univeriado del Variable Objetivo"
   ],
   "metadata": {
    "id": "ouT5Qetrokxt"
   }
  },
  {
   "cell_type": "code",
   "source": [
    "plt.figure(figsize=(16, 6))\n",
    "plt.subplot(1, 2, 1)\n",
    "sns.histplot(data[target_var_num], kde=True, bins=10)\n",
    "plt.title(f'Distribución de {target_var_num} (Antes de remover atípicos)', fontsize=14)\n",
    "plt.xlabel(target_var_num)\n",
    "plt.ylabel('Frecuencia')\n",
    "\n",
    "plt.subplot(1, 2, 2)\n",
    "sns.histplot(data_cleaned[target_var_num], kde=True, bins=10)\n",
    "plt.title(f'Distribución de {target_var_num} (Después de remover atípicos)', fontsize=14)\n",
    "plt.xlabel(target_var_num)\n",
    "plt.ylabel('Frecuencia')\n",
    "plt.show()"
   ],
   "metadata": {
    "id": "f2MA3RQOomLM"
   },
   "outputs": [],
   "execution_count": null
  },
  {
   "cell_type": "markdown",
   "source": [
    "## Paso 10: Análisis Bivariado"
   ],
   "metadata": {
    "id": "PPw63x5BrN2t"
   }
  },
  {
   "cell_type": "markdown",
   "source": [
    "### Paso 10.1: Análisis Bivariado: Relación con el Precio"
   ],
   "metadata": {
    "id": "-dUnwKVkrPtF"
   }
  },
  {
   "cell_type": "code",
   "source": [],
   "metadata": {
    "id": "azIxa5T6rVKV"
   },
   "outputs": [],
   "execution_count": null
  }
 ]
}
